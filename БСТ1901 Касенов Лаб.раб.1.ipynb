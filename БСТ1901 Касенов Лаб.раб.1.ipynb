{
 "cells": [
  {
   "cell_type": "markdown",
   "metadata": {},
   "source": [
    "# Лабораторная работа №1\n",
    "## Выполнил студент группы Касенов Руслан \n",
    "### Задание 1\n",
    "Создать Jupyter Notebook и вывести надпись \"Hello, World!\""
   ]
  },
  {
   "cell_type": "code",
   "execution_count": 3,
   "metadata": {},
   "outputs": [
    {
     "name": "stdout",
     "output_type": "stream",
     "text": [
      "Hello, World!\n"
     ]
    }
   ],
   "source": [
    "print(\"Hello, World!\")"
   ]
  },
  {
   "cell_type": "markdown",
   "metadata": {},
   "source": [
    "### Задание 2\n",
    "Написать генератор случайных матриц(многомерных), который принимает опциональные параметры m,n,min_limit,max_limit, где m и n указывают размер матрицы, а min_lim и max_lim - минимальное и максимальное значение для генерируемого числа"
   ]
  },
  {
   "cell_type": "code",
   "execution_count": null,
   "metadata": {
    "scrolled": true
   },
   "outputs": [],
   "source": [
    "m=50\n",
    "n=50\n",
    "min_limit=-250\n",
    "max_limit=1001\n",
    "\n",
    "strM=input(\"\\n\\nВведите m: \")\n",
    "if len(strM)>0: m=int(strM)\n",
    "\n",
    "strN=input(\"Введите n: \")\n",
    "if len(strN)>0: n=int(strN)\n",
    "    \n",
    "while True:\n",
    "    strMin_limit=input(\"Введите минимальное значение: \")\n",
    "    if len(strMin_limit)>0: min_limit=int(strMin_limit)\n",
    "\n",
    "    strMax_limit=input(\"Введите максимальное значение: \")\n",
    "    if len(strMax_limit)>0: max_limit=int(strMax_limit)\n",
    "            \n",
    "    if (min_limit<=max_limit): break\n",
    "    else: print(\"\\nМинимальный элемент не может быть больше максимального, повторите попытку\\n\")\n"
   ]
  },
  {
   "cell_type": "code",
   "execution_count": null,
   "metadata": {},
   "outputs": [],
   "source": [
    "import random\n",
    "def randomize(min_limit = -250, max_limit = 1001, n = 50, m = 50):\n",
    "    arr = [[random.randint(min_limit, max_limit) for i in range(n)],\n",
    "           [random.randint(min_limit, max_limit) for i in range(m)]]\n",
    "    return arr"
   ]
  },
  {
   "cell_type": "markdown",
   "metadata": {},
   "source": [
    "### Задание 3 \n",
    "Реализовать методы сортировки строк числовой матрицы в соответствии с заданием. Оценить время работы каждого алгоритма сортировки и сравнить его со временем стандартной функции сортировки. Испытания проводить на сгенерированных матрицах."
   ]
  },
  {
   "cell_type": "markdown",
   "metadata": {},
   "source": [
    "### Сортировка выбором"
   ]
  },
  {
   "cell_type": "code",
   "execution_count": null,
   "metadata": {},
   "outputs": [],
   "source": [
    "def SelectionSort(arr):\n",
    "    array=arr.copy()\n",
    "    for i in range(len(array)):\n",
    "        for j in range(len(array[i])-1):\n",
    "            min=j\n",
    "            for h in range (j+1,n):\n",
    "                if (array[i][h]<array[i][min]):\n",
    "                    min=h\n",
    "            temp=array[i][j]\n",
    "            array[i][j]=array[i][min]\n",
    "            array[i][min]=temp\n",
    "    return array"
   ]
  },
  {
   "cell_type": "markdown",
   "metadata": {},
   "source": [
    "### Сортировка вставкой"
   ]
  },
  {
   "cell_type": "code",
   "execution_count": null,
   "metadata": {},
   "outputs": [],
   "source": [
    "def InsertionSort(arr):\n",
    "    array=arr.copy()\n",
    "    for i in range(len(array)):\n",
    "        for j in range(len(array[i])):\n",
    "            temp=array[i][j]\n",
    "            index=j\n",
    "            while (temp<array[i][index-1]) and (index>0):\n",
    "                array[i][index]=array[i][index-1]\n",
    "                index-=1\n",
    "            array[i][index]=temp\n",
    "    return array"
   ]
  },
  {
   "cell_type": "markdown",
   "metadata": {},
   "source": [
    "### Сортировка обменом"
   ]
  },
  {
   "cell_type": "code",
   "execution_count": null,
   "metadata": {},
   "outputs": [],
   "source": [
    "def BubbleSort(arr):\n",
    "    array=arr.copy()\n",
    "    for i in range(len(array)):\n",
    "        for j in range(len(array[i])):\n",
    "            for h in range(len(array[i])-j-1):\n",
    "                if(array[i][h+1]<array[i][h]):\n",
    "                    temp = array[i][h]\n",
    "                    array[i][h] = array[i][h+1]\n",
    "                    array[i][h+1] = temp\n",
    "\n",
    "    return array"
   ]
  },
  {
   "cell_type": "markdown",
   "metadata": {},
   "source": [
    "### Сортировка Шелла"
   ]
  },
  {
   "cell_type": "code",
   "execution_count": null,
   "metadata": {},
   "outputs": [],
   "source": [
    "def ShellSort(arr):\n",
    "    array=arr.copy()\n",
    "    for i in range(len(array)):\n",
    "        d=int(len(array[i])/2)\n",
    "        while d>0:\n",
    "            for j in range(len(array[i])):\n",
    "                for h in range(int(j+d),len(array[i]),d):\n",
    "                    if array[i][j]>array[i][h]:\n",
    "                        temp=array[i][j]\n",
    "                        array[i][j]=array[i][h]\n",
    "                        array[i][h]=temp\n",
    "            \n",
    "            d=int(d/2)\n",
    "    return array"
   ]
  },
  {
   "cell_type": "markdown",
   "metadata": {},
   "source": [
    "### Сортировка Турнирная"
   ]
  },
  {
   "cell_type": "code",
   "execution_count": null,
   "metadata": {},
   "outputs": [],
   "source": [
    "def TournamentSort(array):\n",
    "    arr= array.copy()\n",
    "    for i in range(len(arr)):\n",
    "        tournamentSort(arr[i])\n",
    "    return arr\n",
    "def tournamentSort(arr):\n",
    "    tree = [None] * 2 * (len(arr) + len(arr) % 2)\n",
    "    index = len(tree) - len(arr) - len(arr) % 2\n",
    "    \n",
    "    for i, v in enumerate(arr):\n",
    "        tree[index + i] = (i, v)\n",
    "    \n",
    "    for j in range(len(arr)):\n",
    "        n = len(arr)\n",
    "        index = len(tree) - len(arr) - len(arr) % 2\n",
    "        while index > -1:\n",
    "            n = (n + 1) // 2\n",
    "            for i in range(n):\n",
    "                i = max(index + i * 2, 1) \n",
    "                if tree[i] != None and tree[i + 1] != None:\n",
    "                    if tree[i][1] < tree[i + 1][1]:\n",
    "                        tree[i // 2] = tree[i]\n",
    "                    else:\n",
    "                        tree[i // 2] = tree[i + 1]\n",
    "                else:\n",
    "                    tree[i // 2] = tree[i] if tree[i] != None else tree[i + 1]\n",
    "            index -= n\n",
    "\n",
    "        index, x = tree[0]\n",
    "        arr[j] = x\n",
    "        tree[len(tree) - len(arr) - len(arr) % 2 + index] = None"
   ]
  },
  {
   "cell_type": "markdown",
   "metadata": {},
   "source": [
    "### Сортировка Быстрая"
   ]
  },
  {
   "cell_type": "code",
   "execution_count": null,
   "metadata": {},
   "outputs": [],
   "source": [
    "def QuickSort(array):\n",
    "    arr=array.copy()\n",
    "    for i in range(len(arr)):\n",
    "        quickSort(0,len(arr[i])-1,arr,i)\n",
    "    return arr\n",
    "\n",
    "def quickSort(_first, _last, array, row):\n",
    "    first=int(_first)\n",
    "    last=int(_last)\n",
    "    middle=int((first+last)/2)\n",
    "    \n",
    "    while (first<last):\n",
    "        \n",
    "        while( array[row][first] < array[row][middle]): \n",
    "            first+=1\n",
    "        while( array[row][last] > array[row][middle]):\n",
    "            last-=1\n",
    "        if(first<=last):\n",
    "            array[row][first],array[row][last]=array[row][last],array[row][first]\n",
    "            first+=1\n",
    "            last-=1\n",
    "    \n",
    "    if(_first<last):\n",
    "        quickSort(_first,last,array,row)\n",
    "    if(first<_last):\n",
    "        quickSort(first,_last,array,row)"
   ]
  },
  {
   "cell_type": "markdown",
   "metadata": {},
   "source": [
    "### Сортировка Пирамидальная"
   ]
  },
  {
   "cell_type": "code",
   "execution_count": null,
   "metadata": {},
   "outputs": [],
   "source": [
    "def heapify(arr, n, i):\n",
    "    largest = i\n",
    "    l = 2 * i + 1\n",
    "    r = 2 * i + 2\n",
    "\n",
    "    if l < n and arr[i] < arr[l]:\n",
    "        largest = l\n",
    "\n",
    "    if r < n and arr[largest] < arr[r]:\n",
    "        largest = r\n",
    "\n",
    "    if largest != i:\n",
    "        arr[i],arr[largest] = arr[largest],arr[i]\n",
    "\n",
    "        heapify(arr, n, largest)\n",
    "\n",
    "\n",
    "def HeapSort(array):\n",
    "    arr=array.copy()\n",
    "    for i in range(len(arr)):\n",
    "        n = len(arr[i])\n",
    "\n",
    "        for j in range(n, -1, -1):\n",
    "            heapify(arr[i], n, j)\n",
    "\n",
    "        for j in range(n-1, 0, -1):\n",
    "            arr[i][j], arr[i][0] = arr[i][0], arr[i][j] \n",
    "            heapify(arr[i], j, 0)\n",
    "    return arr"
   ]
  },
  {
   "cell_type": "code",
   "execution_count": null,
   "metadata": {},
   "outputs": [],
   "source": [
    "import timeit\n",
    "\n",
    "print(\"Сортировка выбором выполнилась за \")\n",
    "arr = randomize(min_limit, max_limit,n , m)\n",
    "start_time = timeit.default_timer()\n",
    "SelectionSort(arr)\n",
    "time_2 = timeit.default_timer() - start_time\n",
    "print(time_2)\n",
    "print(\" секунд\")\n",
    "\n",
    "print(\"Сортировка вставкой выполнилась за \")\n",
    "arr = randomize(min_limit, max_limit,n , m)\n",
    "start_time = timeit.default_timer()\n",
    "InsertionSort(arr)\n",
    "time_2 = timeit.default_timer() - start_time\n",
    "print(time_2)\n",
    "print(\" секунд\")\n",
    "\n",
    "print(\"Сортировка обменом выполнилась за \")\n",
    "arr = randomize(min_limit, max_limit,n , m)\n",
    "start_time = timeit.default_timer()\n",
    "BubbleSort(arr)\n",
    "time_2 = timeit.default_timer() - start_time\n",
    "print(time_2)\n",
    "print(\" секунд\")\n",
    "\n",
    "print(\"Сортировка Шелла выполнилась за \")\n",
    "arr = randomize(min_limit, max_limit,n , m)\n",
    "start_time = timeit.default_timer()\n",
    "ShellSort(arr)\n",
    "time_2 = timeit.default_timer() - start_time\n",
    "print(time_2)\n",
    "print(\" секунд\")\n",
    "\n",
    "print(\"Сортировка Турнирная выполнилась за \")\n",
    "arr = randomize(min_limit, max_limit,n , m)\n",
    "start_time = timeit.default_timer()\n",
    "TournamentSort(arr)\n",
    "time_2 = timeit.default_timer() - start_time\n",
    "print(time_2)\n",
    "print(\" секунд\")\n",
    "\n",
    "print(\"Сортировка Быстрая выполнилась за \")\n",
    "arr = randomize(min_limit, max_limit,n , m)\n",
    "start_time = timeit.default_timer()\n",
    "QuickSort(arr)\n",
    "time_2 = timeit.default_timer() - start_time\n",
    "print(time_2)\n",
    "print(\" секунд\")\n",
    "\n",
    "print(\"Сортировка Пирамидальная выполнилась за \")\n",
    "arr = randomize(min_limit, max_limit,n , m)\n",
    "start_time = timeit.default_timer()\n",
    "HeapSort(arr)\n",
    "time_2 = timeit.default_timer() - start_time\n",
    "print(time_2)\n",
    "print(\" секунд\")"
   ]
  },
  {
   "cell_type": "code",
   "execution_count": null,
   "metadata": {},
   "outputs": [],
   "source": []
  },
  {
   "cell_type": "markdown",
   "metadata": {},
   "source": [
    "# Вывод:\n",
    "### В ходе лабораторной работы я изучил методы сортировки."
   ]
  }
 ],
 "metadata": {
  "kernelspec": {
   "display_name": "Python 3",
   "language": "python",
   "name": "python3"
  },
  "language_info": {
   "codemirror_mode": {
    "name": "ipython",
    "version": 3
   },
   "file_extension": ".py",
   "mimetype": "text/x-python",
   "name": "python",
   "nbconvert_exporter": "python",
   "pygments_lexer": "ipython3",
   "version": "3.8.5"
  }
 },
 "nbformat": 4,
 "nbformat_minor": 5
}
