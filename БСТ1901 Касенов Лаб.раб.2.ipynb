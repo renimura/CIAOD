{
 "cells": [
  {
   "cell_type": "markdown",
   "metadata": {},
   "source": [
    "# Лабораторная работа №2\n",
    "## Выполнил студент группы БСТ1901 Касенов Руслан \n",
    "### Задание №1\n",
    "1 Организовать генерацию начального набора случайных данных. \n",
    "\n",
    "2 Для всех вариантов добавить реализацию добавления, поиска и удаления элементов. \n",
    "\n",
    "3 Оценить время работы каждого алгоритма поиска и сравнить его со временем работы стандартной функции поиска, используемой в\n",
    "выбранном языке программирования. \n",
    "\n",
    "### Бинарный поиск "
   ]
  },
  {
   "cell_type": "code",
   "execution_count": 484,
   "metadata": {},
   "outputs": [],
   "source": [
    "def binary_search(arr, key):\n",
    "  # Определяем верхнюю и нижнюю границы поиска\n",
    "    low = 0\n",
    "    high = len(arr)-1\n",
    "  # Пока между ними не останется один элемент\n",
    "    while low <= high:\n",
    "    # Находим средний элемент\n",
    "        middle = (low + high) // 2\n",
    "    # Сравниваем с искомым\n",
    "        if arr[middle] == key:\n",
    "            return middle\n",
    "        else:\n",
    "            # Если не совпал изменяем либо нижнюю либо верхнюю границу\n",
    "            if arr[middle]>key:\n",
    "                high = middle-1\n",
    "            else: \n",
    "                low = middle+1\n",
    "\n",
    "\n",
    "  # Значение не найдено\n",
    "    return None\n",
    "\n",
    "def addItem_binSearch(arr, key):\n",
    "    index = binary_search(arr,key)\n",
    "    if index != None and arr[index] == key:\n",
    "        print(\"Такой элемент уже существует\")\n",
    "    else: \n",
    "        i = 0\n",
    "        while i<len(arr):\n",
    "            # Если вставляемый элемент меньше первого, сделать его первым\n",
    "            if key<arr[0]:\n",
    "                arr.insert(0,key)\n",
    "            # Если вставляемый элемент больше последнего, сделать его последним    \n",
    "            if key>arr[len(arr)-1]:\n",
    "                arr.insert(len(arr),key)\n",
    "            # находит такое место, где предыдущий элемент меньше вставляемого, а следующий больше    \n",
    "            if key>arr[i] and key<arr[i+1]:\n",
    "                arr.insert(i+1,key)\n",
    "            i+=1\n",
    "    return arr\n",
    "\n",
    "def deleteItem_binSearch(arr,key):\n",
    "    index = binary_search(arr,key)\n",
    "    if index == None:\n",
    "        print(\"Такой элемент не существует\")\n",
    "    else: \n",
    "        arr.pop(index)\n",
    "    return arr\n"
   ]
  },
  {
   "cell_type": "code",
   "execution_count": 663,
   "metadata": {},
   "outputs": [
    {
     "name": "stdout",
     "output_type": "stream",
     "text": [
      "[-42, 77, 193, 209, 534, 746, 949, 1011]\n"
     ]
    }
   ],
   "source": [
    "import random\n",
    "n=8\n",
    "Array = [random.randint(-250, 1016) for i in range(n)]\n",
    "Array.sort()\n",
    "print(Array)\n"
   ]
  },
  {
   "cell_type": "code",
   "execution_count": 664,
   "metadata": {},
   "outputs": [
    {
     "name": "stdout",
     "output_type": "stream",
     "text": [
      "5\n"
     ]
    }
   ],
   "source": [
    "c = binary_search(Array,746)\n",
    "print(c)"
   ]
  },
  {
   "cell_type": "code",
   "execution_count": 487,
   "metadata": {},
   "outputs": [
    {
     "name": "stdout",
     "output_type": "stream",
     "text": [
      "[-179, 145, 203, 642, 777, 825, 891, 930, 1000]\n"
     ]
    }
   ],
   "source": [
    "Array = addItem_binSearch(Array,1000)\n",
    "print(Array)"
   ]
  },
  {
   "cell_type": "code",
   "execution_count": 488,
   "metadata": {},
   "outputs": [
    {
     "name": "stdout",
     "output_type": "stream",
     "text": [
      "Такой элемент не существует\n",
      "[-179, 145, 203, 642, 777, 825, 891, 930, 1000]\n"
     ]
    }
   ],
   "source": [
    "Array = deleteItem_binSearch(Array,781)\n",
    "print(Array)"
   ]
  },
  {
   "cell_type": "markdown",
   "metadata": {},
   "source": [
    "### Бинарное дерево"
   ]
  },
  {
   "cell_type": "code",
   "execution_count": 518,
   "metadata": {},
   "outputs": [],
   "source": [
    "class Node:\n",
    "    # конструктор\n",
    "    def __init__(self, key):\n",
    "        self.key = key\n",
    "        #self.value = value\n",
    "        self.left = self.right = None\n",
    "           \n",
    "    def insertItem_BST(self, key):\n",
    "        # Если корневой элемент существует\n",
    "        if self.key:\n",
    "            # Если ключ меньше значения в узле добавляем его в левую ветку\n",
    "            if key < self.key:\n",
    "                # если ветка пустая то создаем в ней новый узел\n",
    "                if self.left is None:\n",
    "                    self.left = Node(key)\n",
    "                else:\n",
    "                    # если не пустая то вызываем для нового узла эту функцию\n",
    "                    self.left.insertItem_BST(key)\n",
    "            elif key >= self.key:\n",
    "                if self.right is None:\n",
    "                    self.right = Node(key)\n",
    "                else:\n",
    "                    self.right.insertItem_BST(key)\n",
    "        else:\n",
    "            self.key = key\n",
    "    def show(self):\n",
    "        if self.left:\n",
    "            self.left.show()\n",
    "        print( self.key),\n",
    "        if self.right:\n",
    "            self.right.show()\n",
    "    \n",
    "    def searchItem_BST(self,key):\n",
    "        if self.key:\n",
    "            # если ключ совпадает со значением узла то элемент найден\n",
    "            if self.key==key:\n",
    "                print(\"Элемент найден\")\n",
    "                return \n",
    "            if key< self.key:\n",
    "                # если ветка пустая, то элемента в ней нет\n",
    "                if self.left is None:\n",
    "                    print(\"Элемент не найден\")\n",
    "                    return\n",
    "                # Если не пустая то вызываем эту функцию для нового узла\n",
    "                self.left.searchItem_BST(key)\n",
    "            else:\n",
    "                if self.right is None:\n",
    "                    print(\"Элемент не найден\")\n",
    "                    return\n",
    "                self.right.searchItem_BST(key)\n",
    "        else:\n",
    "            print(\"Дерево пустое\")\n",
    "    def deleteItem_BST(self,key):\n",
    "        if self.key:\n",
    "            # Если ключ меньше значения узла\n",
    "            if key < self.key:\n",
    "                # Вызываем функцию для нового узла\n",
    "                self.left = self.left.deleteItem_BST(key)\n",
    "            elif key > self.key:\n",
    "                self.right = self.right.deleteItem_BST(key)\n",
    "                # если у узла есть обе ветки, помещаем в узел наименьший элемент из правой ветки и удаляем его из ветки\n",
    "            elif self.left != None and self.right != None:\n",
    "                self.key = min(self.right).key\n",
    "                self.right = self.right.deleteItem_BST(self.key)\n",
    "            else:\n",
    "                # если есть только левая ветка, элемент удаляетя при этом узел левой ветки становится на его место\n",
    "                if self.left != None:\n",
    "                    self = self.left\n",
    "                elif self.right != None:\n",
    "                    self = self.right\n",
    "                else:\n",
    "                    self = None\n",
    "        return self"
   ]
  },
  {
   "cell_type": "code",
   "execution_count": 524,
   "metadata": {},
   "outputs": [
    {
     "name": "stdout",
     "output_type": "stream",
     "text": [
      "-1\n",
      "2\n",
      "5\n",
      "6\n",
      "8\n",
      "99\n",
      "\n",
      "Элемент найден\n",
      "-1\n",
      "2\n",
      "5\n",
      "6\n",
      "8\n",
      "99\n",
      "\n",
      "2\n",
      "5\n",
      "6\n",
      "8\n",
      "99\n"
     ]
    }
   ],
   "source": [
    "Tree = Node(5)\n",
    "Tree.insertItem_BST(8)\n",
    "Tree.insertItem_BST(6)\n",
    "Tree.insertItem_BST(2)\n",
    "Tree.insertItem_BST(-1)\n",
    "Tree.insertItem_BST(99)\n",
    "\n",
    "Tree.show()\n",
    "print()\n",
    "Tree.searchItem_BST(2)\n",
    "Tree.show()\n",
    "print()\n",
    "Tree.deleteItem_BST(-1)\n",
    "Tree.show()"
   ]
  },
  {
   "cell_type": "markdown",
   "metadata": {},
   "source": [
    "### Фибоначчиев поиск"
   ]
  },
  {
   "cell_type": "code",
   "execution_count": 750,
   "metadata": {},
   "outputs": [],
   "source": [
    "def fibonacciSearch(arr,key):\n",
    "    f1=0\n",
    "    f2=1\n",
    "    summa = 0\n",
    "    # пока числа фибоначчи не выходят за пределы массива и пока ключ больше элемента в массиве\n",
    "    while summa<len(arr) and key>=arr[summa]:\n",
    "        # если они равны - элемент найден\n",
    "        if arr[summa]==key:\n",
    "            #print(\"Элемент найден\")\n",
    "            return 1\n",
    "        # находим следующее число фибоначчи\n",
    "        summa = f1+f2\n",
    "        f1=f2\n",
    "        f2=summa\n",
    "    # если массив чисел стал из одного элемента - то значение ключа не найдено\n",
    "    if summa==f1:\n",
    "        #print(\"Элемент не найден\")\n",
    "        return None\n",
    "    # если число фибоначчи выходит за границы массива то верхней границей для промежутка становится индекс последнего элемента\n",
    "    if summa>len(arr):\n",
    "        summa = len(arr)\n",
    "    i=0\n",
    "    # не включаю нижнюю границу\n",
    "    j=f1+1\n",
    "    newArr = [0]*(summa-f1-1)\n",
    "    # заполняю новый массив элементами из промежутка между двумя числами фибоначчи/ либо между числом и границей массива\n",
    "    while j>f1 and j< summa:       \n",
    "        newArr[i] = arr[j]\n",
    "        j+=1\n",
    "        i+=1\n",
    "    # в новом промежутке снова вызываю функцию   \n",
    "    index = fibonacciSearch(newArr,key)\n",
    "    if index:\n",
    "        return index    "
   ]
  },
  {
   "cell_type": "code",
   "execution_count": 790,
   "metadata": {},
   "outputs": [],
   "source": [
    "def addItem_fibonacciSearch(arr, key):\n",
    "    index = fibonacciSearch(arr,key)\n",
    "    if index != None and arr[index] == key:\n",
    "        print(\"Такой элемент уже существует\")\n",
    "    else: \n",
    "        i = 0\n",
    "        while i<len(arr):\n",
    "            # Если вставляемый элемент меньше первого, сделать его первым\n",
    "            if key<arr[0]:\n",
    "                arr.insert(0,key)\n",
    "            # Если вставляемый элемент больше последнего, сделать его последним    \n",
    "            if key>arr[len(arr)-1]:\n",
    "                arr.insert(len(arr),key)\n",
    "            # находит такое место, где предыдущий элемент меньше вставляемого, а следующий больше    \n",
    "            if key>arr[i] and key<arr[i+1]:\n",
    "                arr.insert(i+1,key)\n",
    "            i+=1\n",
    "    return arr\n",
    "def deleteItem_fibonacciSearch(arr,key):\n",
    "    index = fibonacciSearch(arr,key)\n",
    "    if index:\n",
    "        for m in range(len(arr)):\n",
    "            if key == arr[m]:\n",
    "                arr.pop(m)\n",
    "                return arr\n",
    "        \n",
    "    else:\n",
    "        print(\"Такого элемента не существует\")\n",
    "    return arr"
   ]
  },
  {
   "cell_type": "code",
   "execution_count": 791,
   "metadata": {},
   "outputs": [
    {
     "name": "stdout",
     "output_type": "stream",
     "text": [
      "[3, 96, 206, 211, 381, 555, 658, 882, 939, 1017]\n"
     ]
    }
   ],
   "source": [
    "import random\n",
    "n=10\n",
    "ArrayFib = [random.randint(-250, 1016) for i in range(n)]\n",
    "ArrayFib.sort()\n",
    "print(ArrayFib)"
   ]
  },
  {
   "cell_type": "code",
   "execution_count": 793,
   "metadata": {},
   "outputs": [
    {
     "name": "stdout",
     "output_type": "stream",
     "text": [
      "[3, 96, 206, 211, 381, 555, 658, 882, 1017]\n",
      "None\n"
     ]
    }
   ],
   "source": [
    "print(ArrayFib)\n",
    "n = fibonacciSearch(ArrayFib,298)\n",
    "print(n)"
   ]
  },
  {
   "cell_type": "code",
   "execution_count": 792,
   "metadata": {},
   "outputs": [
    {
     "name": "stdout",
     "output_type": "stream",
     "text": [
      "[3, 96, 206, 211, 381, 555, 658, 882, 1017]\n"
     ]
    }
   ],
   "source": [
    "ArrayFib = deleteItem_fibonacciSearch(ArrayFib, 939)\n",
    "print(ArrayFib)"
   ]
  },
  {
   "cell_type": "code",
   "execution_count": 794,
   "metadata": {},
   "outputs": [
    {
     "name": "stdout",
     "output_type": "stream",
     "text": [
      "[3, 96, 206, 211, 381, 505, 555, 658, 882, 1017]\n"
     ]
    }
   ],
   "source": [
    "ArrayFib = addItem_fibonacciSearch(ArrayFib,505)\n",
    "print(ArrayFib)"
   ]
  },
  {
   "cell_type": "markdown",
   "metadata": {},
   "source": [
    "### Интерполяционный поиск"
   ]
  },
  {
   "cell_type": "code",
   "execution_count": 849,
   "metadata": {},
   "outputs": [],
   "source": [
    "def interpolation_search(arr, key):\n",
    "  # Определяем верхнюю и нижнюю границы поиска\n",
    "    low = 0\n",
    "    high = len(arr)-1\n",
    "  # Пока между ними не останется один элемент\n",
    "    while low <= high and arr[low] <= key and key <= arr[high]:\n",
    "    # Находим средний элемент\n",
    "        middle = low+((key-arr[low])*(high-low)//(arr[high]-arr[low]))\n",
    "        if arr[middle]==key:\n",
    "            return middle  \n",
    "        elif arr[middle]<key: \n",
    "            low = middle+1\n",
    "        else:\n",
    "             high = middle-1\n",
    "                      \n",
    "    return None\n",
    "def addItem_interpolationSearch(arr, key):\n",
    "    index = interpolation_search(arr,key)\n",
    "    if index != None and arr[index] == key:\n",
    "        print(\"Такой элемент уже существует\")\n",
    "    else: \n",
    "        i = 0\n",
    "        while i<len(arr):\n",
    "            # Если вставляемый элемент меньше первого, сделать его первым\n",
    "            if key<arr[0]:\n",
    "                arr.insert(0,key)\n",
    "            # Если вставляемый элемент больше последнего, сделать его последним    \n",
    "            if key>arr[len(arr)-1]:\n",
    "                arr.insert(len(arr),key)\n",
    "            # находит такое место, где предыдущий элемент меньше вставляемого, а следующий больше    \n",
    "            if key>arr[i] and key<arr[i+1]:\n",
    "                arr.insert(i+1,key)\n",
    "            i+=1\n",
    "    return arr\n",
    "\n",
    "def deleteItem_interpolationSearch(arr,key):\n",
    "    index = interpolation_search(arr,key)\n",
    "    if index == None:\n",
    "        print(\"Такой элемент не существует\")\n",
    "    else: \n",
    "        arr.pop(index)\n",
    "    return arr\n"
   ]
  },
  {
   "cell_type": "code",
   "execution_count": 840,
   "metadata": {},
   "outputs": [
    {
     "name": "stdout",
     "output_type": "stream",
     "text": [
      "[-136, 104, 140, 544, 650, 661, 784, 826, 872, 997]\n"
     ]
    }
   ],
   "source": [
    "import random\n",
    "n=10\n",
    "ArrayInter = [random.randint(-250, 1016) for i in range(n)]\n",
    "ArrayInter.sort()\n",
    "print(ArrayInter)"
   ]
  },
  {
   "cell_type": "code",
   "execution_count": 847,
   "metadata": {},
   "outputs": [
    {
     "name": "stdout",
     "output_type": "stream",
     "text": [
      "9\n"
     ]
    }
   ],
   "source": [
    "p = interpolation_search(ArrayInter,997)\n",
    "print(p)"
   ]
  },
  {
   "cell_type": "code",
   "execution_count": 850,
   "metadata": {},
   "outputs": [
    {
     "name": "stdout",
     "output_type": "stream",
     "text": [
      "[-136, 104, 140, 500, 544, 650, 661, 784, 826, 872, 997]\n"
     ]
    }
   ],
   "source": [
    "ArrayInter = addItem_interpolationSearch(ArrayInter,500)\n",
    "print(ArrayInter)"
   ]
  },
  {
   "cell_type": "code",
   "execution_count": 851,
   "metadata": {},
   "outputs": [
    {
     "name": "stdout",
     "output_type": "stream",
     "text": [
      "[-136, 104, 140, 500, 544, 650, 661, 784, 826, 997]\n"
     ]
    }
   ],
   "source": [
    "ArrayInter = deleteItem_interpolationSearch(ArrayInter,872)\n",
    "print(ArrayInter)"
   ]
  },
  {
   "cell_type": "markdown",
   "metadata": {},
   "source": [
    "### Задание №2"
   ]
  },
  {
   "cell_type": "markdown",
   "metadata": {},
   "source": [
    "### Простое рехеширование"
   ]
  },
  {
   "cell_type": "code",
   "execution_count": 2,
   "metadata": {},
   "outputs": [],
   "source": [
    "class rehash:\n",
    "    \n",
    "    def __init__(self):\n",
    "        self.data = [None]*64\n",
    "        \n",
    "    def _hash(self, key,i):\n",
    "        return (hash(key)+i)%(2**4)\n",
    "    \n",
    "    def addItem_Hash(self,key):\n",
    "        i=0\n",
    "        while self.data[self._hash(key,i)] != None and i<len(self.data):\n",
    "            i+=1\n",
    "        self.data[self._hash(key,i)] = key\n",
    "        return self.data\n",
    "    \n",
    "    def searchHash(self,key):\n",
    "        i=0\n",
    "        while self.data[self._hash(key,i)] != None and i<len(self.data):\n",
    "            if self.data[self._hash(key,i)] == key:\n",
    "                return 1\n",
    "            i+=1\n",
    "\n",
    "        return 0\n",
    "\n",
    "    def deleteItem_Hash(self,key):\n",
    "        i=0\n",
    "        while self.data[self._hash(key,i)] != None and i<len(self.data):\n",
    "            if self.data[self._hash(key,i)] == key:\n",
    "                self.data.pop(self._hash(key,i))\n",
    "                return self.data\n",
    "            i+=1\n",
    "        print(\"Такого элемента нет\")"
   ]
  },
  {
   "cell_type": "code",
   "execution_count": 23,
   "metadata": {},
   "outputs": [
    {
     "data": {
      "text/plain": [
       "[None,\n",
       " None,\n",
       " None,\n",
       " None,\n",
       " None,\n",
       " None,\n",
       " None,\n",
       " None,\n",
       " None,\n",
       " 'Goodbye',\n",
       " 'Hello',\n",
       " None,\n",
       " None,\n",
       " None,\n",
       " None,\n",
       " None,\n",
       " None,\n",
       " None,\n",
       " None,\n",
       " None,\n",
       " None,\n",
       " None,\n",
       " None,\n",
       " None,\n",
       " None,\n",
       " None,\n",
       " None,\n",
       " None,\n",
       " None,\n",
       " None,\n",
       " None,\n",
       " None,\n",
       " None,\n",
       " None,\n",
       " None,\n",
       " None,\n",
       " None,\n",
       " None,\n",
       " None,\n",
       " None,\n",
       " None,\n",
       " None,\n",
       " None,\n",
       " None,\n",
       " None,\n",
       " None,\n",
       " None,\n",
       " None,\n",
       " None,\n",
       " None,\n",
       " None,\n",
       " None,\n",
       " None,\n",
       " None,\n",
       " None,\n",
       " None,\n",
       " None,\n",
       " None,\n",
       " None,\n",
       " None,\n",
       " None,\n",
       " None,\n",
       " None]"
      ]
     },
     "execution_count": 23,
     "metadata": {},
     "output_type": "execute_result"
    }
   ],
   "source": [
    "tableRehash = rehash()\n",
    "tableRehash.addItem_Hash(\"Darya\")\n",
    "tableRehash.addItem_Hash(\"Hello\")\n",
    "tableRehash.addItem_Hash(\"Goodbye\")\n",
    "tableRehash.searchHash(\"Darya\")\n",
    "tableRehash.deleteItem_Hash(\"Darya\")"
   ]
  },
  {
   "cell_type": "markdown",
   "metadata": {},
   "source": [
    "### Рехеширование с помощью псевдослучайных чисел"
   ]
  },
  {
   "cell_type": "code",
   "execution_count": 3,
   "metadata": {},
   "outputs": [],
   "source": [
    "class randHash(rehash):\n",
    "    def __init__(self):\n",
    "        self.data = [None]*64\n",
    "    \n",
    "    def randNumbers(self,i):\n",
    "        R=[5]\n",
    "        if len(R) - 1 < i:\n",
    "            R.append(self.randNumbers(i - 1))\n",
    "        return (8255 * R[i] + 239) % 64\n",
    "    \n",
    "    def _hash(self, key,i):\n",
    "        return (hash(key)+self.randNumbers(i))%(2**4)"
   ]
  },
  {
   "cell_type": "code",
   "execution_count": 25,
   "metadata": {},
   "outputs": [
    {
     "data": {
      "text/plain": [
       "[None,\n",
       " None,\n",
       " None,\n",
       " 'Goodbye',\n",
       " None,\n",
       " None,\n",
       " None,\n",
       " None,\n",
       " None,\n",
       " None,\n",
       " None,\n",
       " None,\n",
       " None,\n",
       " None,\n",
       " 'Hello',\n",
       " None,\n",
       " None,\n",
       " None,\n",
       " None,\n",
       " None,\n",
       " None,\n",
       " None,\n",
       " None,\n",
       " None,\n",
       " None,\n",
       " None,\n",
       " None,\n",
       " None,\n",
       " None,\n",
       " None,\n",
       " None,\n",
       " None,\n",
       " None,\n",
       " None,\n",
       " None,\n",
       " None,\n",
       " None,\n",
       " None,\n",
       " None,\n",
       " None,\n",
       " None,\n",
       " None,\n",
       " None,\n",
       " None,\n",
       " None,\n",
       " None,\n",
       " None,\n",
       " None,\n",
       " None,\n",
       " None,\n",
       " None,\n",
       " None,\n",
       " None,\n",
       " None,\n",
       " None,\n",
       " None,\n",
       " None,\n",
       " None,\n",
       " None,\n",
       " None,\n",
       " None,\n",
       " None,\n",
       " None]"
      ]
     },
     "execution_count": 25,
     "metadata": {},
     "output_type": "execute_result"
    }
   ],
   "source": [
    "Table = randHash()\n",
    "Table.addItem_Hash(\"Darya\")\n",
    "Table.addItem_Hash(\"Hello\")\n",
    "Table.addItem_Hash(\"Goodbye\")\n",
    "Table.searchHash(\"Darya\")\n",
    "Table.deleteItem_Hash(\"Darya\")"
   ]
  },
  {
   "cell_type": "markdown",
   "metadata": {},
   "source": [
    "### Метод цепочек"
   ]
  },
  {
   "cell_type": "code",
   "execution_count": 9,
   "metadata": {},
   "outputs": [],
   "source": [
    "class ChainMethod:\n",
    "    def __init__(self):\n",
    "        \n",
    "        self.data = [None]*64\n",
    "    \n",
    "    \n",
    "    def _hash(self,key):\n",
    "        return hash(key)%(2**4)\n",
    "    \n",
    "    def addItem(self, index, key):\n",
    "\n",
    "        if self.data[index] is None:\n",
    "            self.data[index] = [key]\n",
    "            print(\"элемент добавлен\")\n",
    "            return 1\n",
    "        else:\n",
    "            for i, item in enumerate(self.data[index]):\n",
    "                if item == key:\n",
    "                    self.data[index][i] = key\n",
    "                    print(\"элемент не добавлен\")\n",
    "                    return 0\n",
    "            self.data[index].append(key)\n",
    "            print(\"элемент добавлен\")\n",
    "            return 1\n",
    "    \n",
    "    def searchChain(self,index,item):\n",
    "        if self.data[index] is not None:\n",
    "            if self.data[index] == [item]:\n",
    "                print(\"Элемент найден\")\n",
    "                return 1\n",
    "            else:\n",
    "                for i, item_ in enumerate(self.data[index]):\n",
    "                    if self.data[index][i] == item:\n",
    "                        print(\"Элемент найден\")\n",
    "                        return 1\n",
    "        else:\n",
    "            print(\"Элемент не найден\")\n",
    "            return 0\n",
    "        \n",
    "    def deleteItem_Chain(self,index,item):\n",
    "        if self.data[index] is not None:\n",
    "            if self.data[index] == [item]:\n",
    "                self.data[index] = None\n",
    "                print(\"Элемент удален\")\n",
    "                return 1\n",
    "            else:\n",
    "                for i, item_ in enumerate(self.data[index]):\n",
    "                    if self.data[index][i] == item:\n",
    "                        self.data[index].pop(i)\n",
    "                        print(\"Элемент удален\")\n",
    "                        return 1\n",
    "        else:\n",
    "\n",
    "            return 0"
   ]
  },
  {
   "cell_type": "code",
   "execution_count": 14,
   "metadata": {},
   "outputs": [
    {
     "name": "stdout",
     "output_type": "stream",
     "text": [
      "элемент добавлен\n",
      "элемент добавлен\n",
      "элемент добавлен\n",
      "Элемент найден\n",
      "Элемент удален\n"
     ]
    },
    {
     "data": {
      "text/plain": [
       "1"
      ]
     },
     "execution_count": 14,
     "metadata": {},
     "output_type": "execute_result"
    }
   ],
   "source": [
    "tableChain = ChainMethod()\n",
    "tableChain.addItem(tableChain._hash(\"Darya\"),\"Darya\")\n",
    "tableChain.addItem(tableChain._hash(\"Hello\"),\"Hello\")\n",
    "tableChain.addItem(tableChain._hash(\"Goodbye\"),\"Goodbye\")\n",
    "tableChain.searchChain(tableChain._hash(\"Darya\"),\"Darya\")\n",
    "tableChain.deleteItem_Chain(tableChain._hash(\"Darya\"),\"Darya\")"
   ]
  },
  {
   "cell_type": "markdown",
   "metadata": {},
   "source": [
    "### Задание №3"
   ]
  },
  {
   "cell_type": "code",
   "execution_count": 1071,
   "metadata": {},
   "outputs": [],
   "source": [
    "#Проверяет поле на атаку другими ферзями\n",
    "def checkField(i,j,Queens):\n",
    "    r=i\n",
    "    c=j\n",
    "    #В столбце\n",
    "    for k in range(i):\n",
    "        if j == Queens[k]:\n",
    "            return False\n",
    "    # В ниспадающей диагонали    \n",
    "    while i>=0 and j>=0:\n",
    "        if Queens[i]==j:\n",
    "            return False\n",
    "        i-=1\n",
    "        j-=1\n",
    "    # В растущей диагонали    \n",
    "    while r>=0 and c<=14:\n",
    "        if Queens[r]==c:\n",
    "            return False\n",
    "        r-=1\n",
    "        c+=1    \n",
    "    return True"
   ]
  },
  {
   "cell_type": "code",
   "execution_count": 1076,
   "metadata": {},
   "outputs": [],
   "source": [
    "# Queens - массив, в котором индекс это строка, значение это столбец, где стоит ферзь\n",
    "def findQueens(Queens=[0]*15, i=0):\n",
    "    # Если на доске уже 8 ферзей, то рекурсия останавливается\n",
    "    if i ==15:\n",
    "        arr = [[0 for i in range(15)] for j in range(15)]\n",
    "        for i in range(15):\n",
    "            for j in range(15):\n",
    "                arr[i][Queens[i]] = 1\n",
    "        print(Queens)\n",
    "        return arr\n",
    "    else:\n",
    "        for j in range(15):\n",
    "            # Проверяем свободно ли поле\n",
    "            if checkField(i,j,Queens):\n",
    "                # Если да, записываем координату ферзя \n",
    "                Queens[i]=j\n",
    "                # Снова вызываем функцию со следующей строки\n",
    "                chessBoard = findQueens(Queens,i+1)\n",
    "                # если переменная не пустая, выходим в предыдующую функцию с этой перемееной\n",
    "                if chessBoard:\n",
    "                    return chessBoard\n",
    "                \n",
    "        \n",
    "    "
   ]
  },
  {
   "cell_type": "code",
   "execution_count": 1077,
   "metadata": {},
   "outputs": [
    {
     "name": "stdout",
     "output_type": "stream",
     "text": [
      "[1, 3, 5, 2, 9, 14, 10, 13, 4, 0, 7, 11, 6, 8, 12]\n"
     ]
    },
    {
     "data": {
      "text/plain": [
       "[[0, 1, 0, 0, 0, 0, 0, 0, 0, 0, 0, 0, 0, 0, 0],\n",
       " [0, 0, 0, 1, 0, 0, 0, 0, 0, 0, 0, 0, 0, 0, 0],\n",
       " [0, 0, 0, 0, 0, 1, 0, 0, 0, 0, 0, 0, 0, 0, 0],\n",
       " [0, 0, 1, 0, 0, 0, 0, 0, 0, 0, 0, 0, 0, 0, 0],\n",
       " [0, 0, 0, 0, 0, 0, 0, 0, 0, 1, 0, 0, 0, 0, 0],\n",
       " [0, 0, 0, 0, 0, 0, 0, 0, 0, 0, 0, 0, 0, 0, 1],\n",
       " [0, 0, 0, 0, 0, 0, 0, 0, 0, 0, 1, 0, 0, 0, 0],\n",
       " [0, 0, 0, 0, 0, 0, 0, 0, 0, 0, 0, 0, 0, 1, 0],\n",
       " [0, 0, 0, 0, 1, 0, 0, 0, 0, 0, 0, 0, 0, 0, 0],\n",
       " [1, 0, 0, 0, 0, 0, 0, 0, 0, 0, 0, 0, 0, 0, 0],\n",
       " [0, 0, 0, 0, 0, 0, 0, 1, 0, 0, 0, 0, 0, 0, 0],\n",
       " [0, 0, 0, 0, 0, 0, 0, 0, 0, 0, 0, 1, 0, 0, 0],\n",
       " [0, 0, 0, 0, 0, 0, 1, 0, 0, 0, 0, 0, 0, 0, 0],\n",
       " [0, 0, 0, 0, 0, 0, 0, 0, 1, 0, 0, 0, 0, 0, 0],\n",
       " [0, 0, 0, 0, 0, 0, 0, 0, 0, 0, 0, 0, 1, 0, 0]]"
      ]
     },
     "execution_count": 1077,
     "metadata": {},
     "output_type": "execute_result"
    }
   ],
   "source": [
    "findQueens()\n"
   ]
  },
  {
   "cell_type": "markdown",
   "metadata": {},
   "source": [
    "# Вывод\n",
    "В ходе лабораторной работы я изучил методы поиска, рассмотрела такую структуру данных как хэш-таблицы."
   ]
  },
  {
   "cell_type": "code",
   "execution_count": null,
   "metadata": {},
   "outputs": [],
   "source": []
  }
 ],
 "metadata": {
  "celltoolbar": "Необработанный формат ячейки",
  "kernelspec": {
   "display_name": "Python 3",
   "language": "python",
   "name": "python3"
  },
  "language_info": {
   "codemirror_mode": {
    "name": "ipython",
    "version": 3
   },
   "file_extension": ".py",
   "mimetype": "text/x-python",
   "name": "python",
   "nbconvert_exporter": "python",
   "pygments_lexer": "ipython3",
   "version": "3.8.5"
  }
 },
 "nbformat": 4,
 "nbformat_minor": 5
}
