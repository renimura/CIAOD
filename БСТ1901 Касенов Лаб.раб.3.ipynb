{
 "cells": [
  {
   "cell_type": "markdown",
   "metadata": {},
   "source": [
    "# Лабораторная работа №3\n",
    "## Выполнил студент группы БСТ1901 Касенов Руслан \n",
    "### Задание №1\n",
    "1 Реализовать методы поиска подстроки в строке. \n",
    "2 Добавить возможность ввода строки и подстроки с клавиатуры. \n",
    "3 Предусмотреть возможность существования пробела. \n",
    "4 Реализовать возможность выбора опции чувствительности или нечувствительности к регистру. \n",
    "5 Оценить время работы каждого алгоритма поиска и сравнить его со временем работы стандартной\n",
    "функции поиска, используемой в выбранном языке программирования. \n",
    "### Алгоритм Кнута-Морриса-Пратта"
   ]
  },
  {
   "cell_type": "code",
   "execution_count": 2,
   "metadata": {},
   "outputs": [],
   "source": [
    "def prefix(subStr):\n",
    "    prefFunc = [0]*len(subStr)\n",
    "    for i in range(1,len(subStr)):\n",
    "        k = prefFunc[i-1]\n",
    "        while k > 0 and subStr[k] != subStr[i]:\n",
    "            k = prefFunc[k-1]\n",
    "        if subStr[k] == subStr[i]:\n",
    "            k = k + 1\n",
    "        prefFunc[i] = k\n",
    "    return prefFunc"
   ]
  },
  {
   "cell_type": "code",
   "execution_count": 38,
   "metadata": {},
   "outputs": [],
   "source": [
    "def kmp_search(subStr,line,case,space):\n",
    "    space = space.lower()\n",
    "    case = case.lower()\n",
    "    _subStr = subStr\n",
    "    _line = line\n",
    "    if case == \"no\":\n",
    "        subStr = _subStr.lower()\n",
    "        line = _line.lower()\n",
    "    if space ==\"no\":\n",
    "        _subStr = _subStr.replace(\" \",\"\")\n",
    "        _line = _line.replace(\" \",\"\")\n",
    "    index = -1\n",
    "    f = prefix(subStr)\n",
    "    k = 0\n",
    "    for i in range(len(line)):\n",
    "        while k > 0 and subStr[k] != line[i]:\n",
    "            k = f[k-1]\n",
    "        if subStr[k] == line[i]:\n",
    "            k = k + 1\n",
    "        if k == len(subStr):\n",
    "            index = i - len(subStr) + 1\n",
    "            break\n",
    "    if space ==\"no\":\n",
    "            m=0\n",
    "            n=0\n",
    "            spacesNumber = 0\n",
    "            while m<=k+1 and n<=len(line):\n",
    "                if _line[m]==line[n]:\n",
    "                    m+=1\n",
    "                    n+=1\n",
    "                else:\n",
    "                    if line[n]==\" \":\n",
    "                        spacesNumber +=1\n",
    "                        n+=1\n",
    "            return index+spacesNumber\n",
    "        else: \n",
    "            return index"
   ]
  },
  {
   "cell_type": "code",
   "execution_count": 51,
   "metadata": {},
   "outputs": [
    {
     "name": "stdout",
     "output_type": "stream",
     "text": [
      "input the string: abcabd\n",
      "input the substring: cab\n",
      "Case sensitivity, write Yes or No: No\n"
     ]
    },
    {
     "data": {
      "text/plain": [
       "2"
      ]
     },
     "execution_count": 51,
     "metadata": {},
     "output_type": "execute_result"
    }
   ],
   "source": [
    "line = input(\"input the string: \")\n",
    "subStr = input(\"input the substring: \")\n",
    "case = input(\"Case sensitivity, write Yes or No: \")\n",
    "space = input(\"Space sensitivity, write Yes or No: \")\n",
    "kmp_search(subStr,line,case,space)"
   ]
  },
  {
   "cell_type": "markdown",
   "metadata": {},
   "source": [
    "### Упрощенный алгоритм Бойера-Мура\n"
   ]
  },
  {
   "cell_type": "code",
   "execution_count": 42,
   "metadata": {},
   "outputs": [],
   "source": [
    "def displacement(subStr):\n",
    "    table = [len(subStr)]*256\n",
    "    for i in range(len(subStr) - 1):\n",
    "        table[ord(subStr[i])] = len(subStr) - 1 - i\n",
    "    return table"
   ]
  },
  {
   "cell_type": "code",
   "execution_count": 86,
   "metadata": {},
   "outputs": [],
   "source": [
    "def bm_search(subStr, line,case,space):\n",
    "    space = space.lower()\n",
    "    case = case.lower()\n",
    "    _subStr = subStr\n",
    "    _line = line\n",
    "    if case == \"no\":\n",
    "        _subStr = _subStr.lower()\n",
    "        _line = _line.lower()\n",
    "    if space ==\"no\":\n",
    "        _subStr = _subStr.replace(\" \",\"\")\n",
    "        _line = _line.replace(\" \",\"\")\n",
    "        \n",
    "    table = displacement(_subStr)\n",
    "    i = len(_subStr) - 1\n",
    "    j = i\n",
    "    k = i\n",
    "    while j >= 0 and i <= len(_line) - 1:\n",
    "        j = len(_subStr) - 1\n",
    "        k = i\n",
    "        while j >= 0 and _line[k] == _subStr[j]:\n",
    "            k-=1\n",
    "            j-=1\n",
    "        i += table[ord(_line[i])]\n",
    "    \n",
    "    if k >= len(_line) - len(_subStr):\n",
    "        return -1\n",
    "    else :\n",
    "        if space ==\"no\":\n",
    "            m=0\n",
    "            n=0\n",
    "            spacesNumber = 0\n",
    "            while m<=k+1 and n<=len(line):\n",
    "                if _line[m]==line[n]:\n",
    "                    m+=1\n",
    "                    n+=1\n",
    "                else:\n",
    "                    if line[n]==\" \":\n",
    "                        spacesNumber +=1\n",
    "                        n+=1\n",
    "            return k+1+spacesNumber\n",
    "        else: \n",
    "            return k+1\n",
    "\n",
    "\n"
   ]
  },
  {
   "cell_type": "code",
   "execution_count": 85,
   "metadata": {},
   "outputs": [
    {
     "name": "stdout",
     "output_type": "stream",
     "text": [
      "input the string: aaab c d \n",
      "input the substring: bcd\n",
      "Case sensitivity, write Yes or No: No\n",
      "Space sensitivity, write Yes or No: No\n",
      "aaabcd\n",
      "3\n"
     ]
    },
    {
     "data": {
      "text/plain": [
       "3"
      ]
     },
     "execution_count": 85,
     "metadata": {},
     "output_type": "execute_result"
    }
   ],
   "source": [
    "line = input(\"input the string: \")\n",
    "subStr = input(\"input the substring: \")\n",
    "case = input(\"Case sensitivity, write Yes or No: \")\n",
    "space = input(\"Space sensitivity, write Yes or No: \")\n",
    "bm_search(subStr,line,case,space)"
   ]
  },
  {
   "cell_type": "markdown",
   "metadata": {},
   "source": [
    "### Задание №2"
   ]
  },
  {
   "cell_type": "code",
   "execution_count": 180,
   "metadata": {},
   "outputs": [],
   "source": [
    "class Position:\n",
    "    def __init__(self, position, start_distance,finish_distance):\n",
    "        self.position = position\n",
    "        self.start_distance = start_distance\n",
    "        self.finish_distance = finish_distance\n",
    "\n",
    "    def __str__(self):\n",
    "        return '\\n'.join((N*'{:3}').format(*[i%(N*N) for i in self.position[i:]]) for i in range(0, N*N, N))\n",
    "\n",
    "    # Переопределяем метод less then для работы PriorityQueue\n",
    "    def __lt__(self, other):\n",
    "        return self.start_distance+self.finish_distance < other.start_distance+other.finish_distance"
   ]
  },
  {
   "cell_type": "code",
   "execution_count": 181,
   "metadata": {},
   "outputs": [],
   "source": [
    "from queue import PriorityQueue\n",
    "\n",
    "N = 4\n",
    "# Генератор сдвигов\n",
    "def shifts(position):\n",
    "# Находим индекс нуля\n",
    "    zeroPosition = position.index(0)\n",
    "# Находим его позицию в поле 4х4, где  i это номер строки,а j номер столбца\n",
    "    i, j = divmod(zeroPosition, N)    \n",
    "    displacement = []\n",
    "# В зависимости от местоположения нуля, смотрим варианты, куда его можно сдвинуть\n",
    "    if i > 0: displacement.append(-N)     # вверх\n",
    "    if i < N - 1: displacement.append(N)  # вниз\n",
    "    if j > 0: displacement.append(-1)     # влево\n",
    "    if j < N - 1: displacement.append(1)  # вправо\n",
    "    for offset in displacement:\n",
    "# считаем индексы новых позиций нуля\n",
    "        swap = zeroPosition + offset\n",
    "# Выводим новое состояние поля, где 0 сдвинут в одном из возможных направлений\n",
    "        yield tuple(position[swap] if x==zeroPosition else position[zeroPosition] if x==swap else position[x] for x in range(N*N))\n",
    "\n",
    "# Проверяет четность неправильных пар\n",
    "def parityOfPairs(state):\n",
    "    countOfPairs = 0\n",
    "    for i in range(len(state)-1):\n",
    "        if state[i] > state[i+1]:\n",
    "            countOfPairs +=1\n",
    "    return countOfPairs % 2"
   ]
  },
  {
   "cell_type": "code",
   "execution_count": 182,
   "metadata": {},
   "outputs": [],
   "source": [
    "def fifteenGame(startState):\n",
    "    terminalState = (1, 2, 3, 4, 5, 6, 7, 8, 9, 10, 11, 12, 13, 14, 15, 0)\n",
    "    # Если количество неправильных пар четное, то такая позиция нерешаема\n",
    "    if parityOfPairs(startState)==0:\n",
    "        print(\"Нет решений\")\n",
    "    else:\n",
    "    # В противном случае создаем из начальной позиции кортеж\n",
    "        startState= tuple(startState)\n",
    "    # создаем экзмепляр класса, с кортежем стартовой позиции в качестве параметра,длиной пути от начала до текущей точки \n",
    "    # и длиной от текущей позиции до конца\n",
    "        p = Position(startState, 0,0)\n",
    "    # Выводим начальную позицию\n",
    "        print(p)\n",
    "        print()\n",
    "    # Создаем экземпляр класса приоритетной очереди\n",
    "        fieldStates= PriorityQueue()\n",
    "    # Заносим в нее пару-это кортеж стартовой позиции, и вес данной вершины\n",
    "        fieldStates.put(p)\n",
    "    # Создаем множество посещенных вершин\n",
    "        closePoints = set([p])\n",
    "    # Создаем словарь в котором будем хранить позиции,где для каждой будет определена ее предыдущая позиция\n",
    "        parents = {p.position: None}\n",
    "\n",
    "    # Пока позиция не будет равна решению    \n",
    "        while p.position != terminalState:\n",
    "    # Получаем приоритетную позицию\n",
    "            p =fieldStates.get()\n",
    "\n",
    "    # для каждого варианта передвижения нуля в одном состоянии поля\n",
    "            for k in shifts(p.position):\n",
    "                count= 0\n",
    "    # Если такой вариант передвижения не находится в списке посещенных\n",
    "                if k not in closePoints:\n",
    "    # Расчитаем растояние до терминального состояния, это количество цифр стоящих не на своих местах\n",
    "                    for m in range(len(k)):\n",
    "                        if k[m] != terminalState[m]:\n",
    "                            count+=1\n",
    "\n",
    "    # То мы заносим его в очередь, с состоянием в качестве параметра, длиной пути от старта до текущего сосотояния\n",
    "    # и длиной до финиша\n",
    "                    fieldStates.put(Position(k, p.start_distance +1,p.finish_distance+count))\n",
    "    # в словарь добавляем новый ключ, то есть эту позицию, его значением будет предыдущая позиция\n",
    "                    parents[k] = p\n",
    "    # Добавляем этот вариант перемещения в посещенный\n",
    "                    closePoints.add(k)\n",
    "\n",
    "\n",
    "        path = []\n",
    "        x = p\n",
    "        previous = p\n",
    "        while p.position != startState:\n",
    "    # Берем из словаря родителя текущего состояния поля\n",
    "            p = parents[p.position]\n",
    "    # Запоминаем индекс нуля из текущего состояния и по этому индексу находим элемент, который сдвинули в предыдущем состоянии\n",
    "            number = p.position[previous.position.index(0)]\n",
    "            path.append(number)\n",
    "    # Предыдущее состояние делаем текущим\n",
    "            previous = p\n",
    "    # Разворачиваем путь, чтобы получить путь от первого до последнего сдвига\n",
    "        path.reverse()\n",
    "\n",
    "        print(path)\n",
    "        print(x)"
   ]
  },
  {
   "cell_type": "code",
   "execution_count": 184,
   "metadata": {},
   "outputs": [
    {
     "name": "stdout",
     "output_type": "stream",
     "text": [
      "  1  2  3  4\n",
      "  5  6  7  8\n",
      " 13  9 11 12\n",
      " 10 14 15  0\n",
      "\n",
      "[15, 14, 10, 13, 9, 10, 14, 15]\n",
      "  1  2  3  4\n",
      "  5  6  7  8\n",
      "  9 10 11 12\n",
      " 13 14 15  0\n"
     ]
    }
   ],
   "source": [
    "startState = [1, 2, 3, 4, 5, 6, 7, 8, 13, 9,11,12,10,14,15,0]\n",
    "fifteenGame(startState)"
   ]
  },
  {
   "cell_type": "markdown",
   "metadata": {},
   "source": [
    "# Вывод \n",
    "Я изучил основные алгоритмы поиска подстроки в строке. А так же реализовал алгоритм решения игры \"Пятнашки\""
   ]
  },
  {
   "cell_type": "code",
   "execution_count": null,
   "metadata": {},
   "outputs": [],
   "source": []
  }
 ],
 "metadata": {
  "kernelspec": {
   "display_name": "Python 3",
   "language": "python",
   "name": "python3"
  },
  "language_info": {
   "codemirror_mode": {
    "name": "ipython",
    "version": 3
   },
   "file_extension": ".py",
   "mimetype": "text/x-python",
   "name": "python",
   "nbconvert_exporter": "python",
   "pygments_lexer": "ipython3",
   "version": "3.8.5"
  }
 },
 "nbformat": 4,
 "nbformat_minor": 5
}
